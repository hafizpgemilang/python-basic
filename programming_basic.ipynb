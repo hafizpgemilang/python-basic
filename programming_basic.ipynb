{
  "nbformat": 4,
  "nbformat_minor": 0,
  "metadata": {
    "colab": {
      "name": "programming-basic",
      "provenance": [],
      "authorship_tag": "ABX9TyNtbqK3GUnF6qs78t8r4GZZ",
      "include_colab_link": true
    },
    "kernelspec": {
      "name": "python3",
      "display_name": "Python 3"
    }
  },
  "cells": [
    {
      "cell_type": "markdown",
      "metadata": {
        "id": "view-in-github",
        "colab_type": "text"
      },
      "source": [
        "<a href=\"https://colab.research.google.com/github/hafizpgemilang/python-basic/blob/master/programming_basic.ipynb\" target=\"_parent\"><img src=\"https://colab.research.google.com/assets/colab-badge.svg\" alt=\"Open In Colab\"/></a>"
      ]
    },
    {
      "cell_type": "code",
      "metadata": {
        "id": "-30OMgDWvr8k",
        "colab_type": "code",
        "colab": {
          "base_uri": "https://localhost:8080/",
          "height": 34
        },
        "outputId": "f85c6784-c943-4b7f-d57c-8cd8bb16f58e"
      },
      "source": [
        "print(\"Testing\")"
      ],
      "execution_count": 1,
      "outputs": [
        {
          "output_type": "stream",
          "text": [
            "Testing\n"
          ],
          "name": "stdout"
        }
      ]
    }
  ]
}